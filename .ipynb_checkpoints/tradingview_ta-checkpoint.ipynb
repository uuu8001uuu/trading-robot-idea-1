{
 "cells": [
  {
   "cell_type": "code",
   "execution_count": 1,
   "id": "706272d8",
   "metadata": {},
   "outputs": [],
   "source": [
    "# library tradingview_ta functions and capabilities\n",
    "# https://python-tradingview-ta.readthedocs.io/en/latest/usage.html#retrieving-multiple-analysis\n",
    "\n",
    "\n",
    "import tradingview_ta as tv\n",
    "\n",
    "# from tradingview_ta import TA_Handler, Interval, Exchange\n",
    "\n",
    "# tesla = TA_Handler(\n",
    "#     symbol=\"TSLA\",\n",
    "#     screener=\"america\",\n",
    "#     exchange=\"NASDAQ\",\n",
    "#     interval=Interval.INTERVAL_1_DAY\n",
    "# )\n",
    "# print(tesla.get_analysis().summary)"
   ]
  },
  {
   "cell_type": "code",
   "execution_count": 3,
   "id": "399f722f",
   "metadata": {},
   "outputs": [
    {
     "name": "stdout",
     "output_type": "stream",
     "text": [
      "summary \n",
      " {'RECOMMENDATION': 'SELL', 'BUY': 5, 'SELL': 13, 'NEUTRAL': 8}\n"
     ]
    }
   ],
   "source": [
    "# tilray = tv.TA_Handler(\n",
    "#     symbol=\"TLRY\",\n",
    "#     screener=\"america\",\n",
    "#     exchange=\"NASDAQ\",\n",
    "#     interval=tv.Interval.INTERVAL_1_DAY,\n",
    "# )\n",
    "\n",
    "# print('summary \\n', tilray.get_analysis().summary)\n",
    "# print('\\n oscillators \\n', tilray.get_analysis().oscillators)\n",
    "# print('\\n moving_averages \\n', tilray.get_analysis().moving_averages)\n",
    "# print('\\n indicators \\n', tilray.get_analysis().indicators)\n",
    "\n",
    "# print('\\n Opening price \\n', tilray.get_analysis().indicators[\"open\"])\n",
    "# print('\\n Closing price \\n', tilray.get_analysis().indicators[\"close\"])\n",
    "# print('\\n MACD \\n', tilray.get_analysis().indicators[\"MACD.macd\"])\n",
    "# print('\\n RSI \\n', tilray.get_analysis().indicators[\"RSI\"])\n",
    "# print('\\n Momentum \\n', tilray.get_analysis().indicators[\"Mom\"])\n",
    "# print('\\n Momentum \\n', tilray.get_analysis().indicators[\"SMA200\"])"
   ]
  },
  {
   "cell_type": "code",
   "execution_count": 4,
   "id": "c62396a7",
   "metadata": {},
   "outputs": [
    {
     "name": "stdout",
     "output_type": "stream",
     "text": [
      "\n",
      " Multiple analysis \n",
      " {'NASDAQ:TSLA': <tradingview_ta.main.Analysis object at 0x7fd48089d430>, 'NYSE:DOCN': <tradingview_ta.main.Analysis object at 0x7fd480b6f6a0>, 'NASDAQ:AAPL': <tradingview_ta.main.Analysis object at 0x7fd480b6f700>}\n"
     ]
    }
   ],
   "source": [
    "# from tradingview_ta import *\n",
    "# analysis = get_multiple_analysis(screener=\"america\", interval=Interval.INTERVAL_1_HOUR, symbols=[\"nasdaq:tsla\", \"nyse:docn\", \"nasdaq:aapl\"])\n",
    "# print('\\n Multiple analysis \\n', analysis)"
   ]
  },
  {
   "cell_type": "code",
   "execution_count": 2,
   "id": "28a40192",
   "metadata": {},
   "outputs": [
    {
     "name": "stdout",
     "output_type": "stream",
     "text": [
      "\n",
      " Multiple analysis \n",
      " {'NASDAQ:AAPL': <tradingview_ta.main.Analysis object at 0x7fd480b6fa90>, 'NASDAQ:TSLA': <tradingview_ta.main.Analysis object at 0x7fd480b6fc40>, 'NYSE:DOCN': <tradingview_ta.main.Analysis object at 0x7fd480b6fe50>}\n"
     ]
    }
   ],
   "source": [
    "# analysis = tv.get_multiple_analysis(screener=\"america\", interval=tv.Interval.INTERVAL_1_HOUR, symbols=[\"NASDAQ:TSLA\", \"NYSE:DOCN\", \"NASDAQ:AAPL\"])\n",
    "# print('\\n Multiple analysis \\n', analysis)"
   ]
  },
  {
   "cell_type": "code",
   "execution_count": null,
   "id": "9fb6dc42",
   "metadata": {},
   "outputs": [],
   "source": []
  }
 ],
 "metadata": {
  "kernelspec": {
   "display_name": "Python 3",
   "language": "python",
   "name": "python3"
  },
  "language_info": {
   "codemirror_mode": {
    "name": "ipython",
    "version": 3
   },
   "file_extension": ".py",
   "mimetype": "text/x-python",
   "name": "python",
   "nbconvert_exporter": "python",
   "pygments_lexer": "ipython3",
   "version": "3.8.10"
  }
 },
 "nbformat": 4,
 "nbformat_minor": 5
}
