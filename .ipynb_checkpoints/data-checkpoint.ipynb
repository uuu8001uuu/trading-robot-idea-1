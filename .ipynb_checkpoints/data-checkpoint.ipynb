{
 "cells": [
  {
   "cell_type": "code",
   "execution_count": 2,
   "metadata": {},
   "outputs": [],
   "source": [
    "# check will library yfinance work or not? uncomment code below\n",
    "\n",
    "\n",
    "# import yfinance as yf\n",
    "\n",
    "# msft = yf.Ticker(\"MSFT\")\n",
    "# print(msft.info)"
   ]
  },
  {
   "cell_type": "code",
   "execution_count": 1,
   "metadata": {},
   "outputs": [
    {
     "name": "stdout",
     "output_type": "stream",
     "text": [
      "{'RECOMMENDATION': 'BUY', 'BUY': 13, 'SELL': 5, 'NEUTRAL': 8}\n"
     ]
    }
   ],
   "source": [
    "# check will library tradingview_ta work or not? uncomment code below\n",
    "\n",
    "\n",
    "# from tradingview_ta import TA_Handler, Interval, Exchange\n",
    "\n",
    "# tesla = TA_Handler(\n",
    "#     symbol=\"TSLA\",\n",
    "#     screener=\"america\",\n",
    "#     exchange=\"NASDAQ\",\n",
    "#     interval=Interval.INTERVAL_1_DAY\n",
    "# )\n",
    "# print(tesla.get_analysis().summary)"
   ]
  },
  {
   "cell_type": "code",
   "execution_count": null,
   "metadata": {},
   "outputs": [],
   "source": []
  }
 ],
 "metadata": {
  "kernelspec": {
   "display_name": "Python 3",
   "language": "python",
   "name": "python3"
  },
  "language_info": {
   "codemirror_mode": {
    "name": "ipython",
    "version": 3
   },
   "file_extension": ".py",
   "mimetype": "text/x-python",
   "name": "python",
   "nbconvert_exporter": "python",
   "pygments_lexer": "ipython3",
   "version": "3.8.10"
  }
 },
 "nbformat": 4,
 "nbformat_minor": 4
}
