{
 "cells": [
  {
   "cell_type": "code",
   "execution_count": 5,
   "metadata": {
    "scrolled": true
   },
   "outputs": [
    {
     "ename": "ModuleNotFoundError",
     "evalue": "No module named 'stockstats'",
     "output_type": "error",
     "traceback": [
      "\u001b[0;31m---------------------------------------------------------------------------\u001b[0m",
      "\u001b[0;31mModuleNotFoundError\u001b[0m                       Traceback (most recent call last)",
      "\u001b[0;32m<ipython-input-5-e6bdc669267c>\u001b[0m in \u001b[0;36m<module>\u001b[0;34m\u001b[0m\n\u001b[1;32m      2\u001b[0m \u001b[0;32mimport\u001b[0m \u001b[0mnumpy\u001b[0m \u001b[0;32mas\u001b[0m \u001b[0mnp\u001b[0m\u001b[0;34m\u001b[0m\u001b[0;34m\u001b[0m\u001b[0m\n\u001b[1;32m      3\u001b[0m \u001b[0;32mimport\u001b[0m \u001b[0myfinance\u001b[0m \u001b[0;32mas\u001b[0m \u001b[0myf\u001b[0m\u001b[0;34m\u001b[0m\u001b[0;34m\u001b[0m\u001b[0m\n\u001b[0;32m----> 4\u001b[0;31m \u001b[0;32mimport\u001b[0m \u001b[0mstockstats\u001b[0m \u001b[0;32mas\u001b[0m \u001b[0mst\u001b[0m\u001b[0;34m\u001b[0m\u001b[0;34m\u001b[0m\u001b[0m\n\u001b[0m\u001b[1;32m      5\u001b[0m \u001b[0;34m\u001b[0m\u001b[0m\n\u001b[1;32m      6\u001b[0m \u001b[0;32mimport\u001b[0m \u001b[0mmatplotlib\u001b[0m\u001b[0;34m.\u001b[0m\u001b[0mpyplot\u001b[0m \u001b[0;32mas\u001b[0m \u001b[0mplt\u001b[0m\u001b[0;34m\u001b[0m\u001b[0;34m\u001b[0m\u001b[0m\n",
      "\u001b[0;31mModuleNotFoundError\u001b[0m: No module named 'stockstats'"
     ]
    }
   ],
   "source": [
    "import pandas as pd\n",
    "import numpy as np\n",
    "import yfinance as yf\n",
    "import stockstats as st\n",
    "\n",
    "import matplotlib.pyplot as plt\n",
    "import seaborn; seaborn.set()"
   ]
  },
  {
   "cell_type": "code",
   "execution_count": 3,
   "metadata": {},
   "outputs": [],
   "source": [
    "# uncomment if you need upload data with Yahoo Finance\n",
    "# spy = yf.Ticker (\"SPY\") \n",
    "# data = pd.DataFrame(spy.history(period=\"max\"))\n",
    "# data.to_csv('data.csv')"
   ]
  },
  {
   "cell_type": "code",
   "execution_count": 4,
   "metadata": {},
   "outputs": [],
   "source": [
    "data = pd.read_csv('data.csv', index_col='Date')"
   ]
  },
  {
   "cell_type": "code",
   "execution_count": 4,
   "metadata": {
    "scrolled": true
   },
   "outputs": [
    {
     "name": "stdout",
     "output_type": "stream",
     "text": [
      "                  Open        High         Low       Close    Volume  \\\n",
      "Date                                                                   \n",
      "1993-11-12   27.781308   27.949453   27.762625   27.856039    108200   \n",
      "1993-11-15   27.912078   27.912078   27.762616   27.837347    243300   \n",
      "1993-11-16   27.893405   27.986819   27.781308   27.968136    492600   \n",
      "1993-11-17   27.986798   27.986798   27.743922   27.818653     39600   \n",
      "1993-11-18   27.781294   27.837343   27.669198   27.743929    240800   \n",
      "...                ...         ...         ...         ...       ...   \n",
      "2021-07-07  433.660004  434.760010  431.510010  434.459991  63549500   \n",
      "2021-07-08  428.779999  431.730011  427.519989  430.920013  97595200   \n",
      "2021-07-09  432.529999  435.839996  430.709991  435.519989  76190300   \n",
      "2021-07-12  435.429993  437.350006  434.970001  437.079987  52889600   \n",
      "2021-07-13  436.239990  437.839996  435.309998  435.589996  52792700   \n",
      "\n",
      "            Dividends  Stock Splits        MA12        MA26        MA50  \\\n",
      "Date                                                                      \n",
      "1993-11-12        0.0             0   27.784410   27.803572   27.646631   \n",
      "1993-11-15        0.0             0   27.790637   27.816506   27.654544   \n",
      "1993-11-16        0.0             0   27.782854   27.828003   27.661340   \n",
      "1993-11-17        0.0             0   27.784411   27.841656   27.673718   \n",
      "1993-11-18        0.0             0   27.762614   27.846686   27.686071   \n",
      "...               ...           ...         ...         ...         ...   \n",
      "2021-07-07        0.0             0  426.822502  423.645211  419.520929   \n",
      "2021-07-08        0.0             0  427.820836  423.937055  419.765186   \n",
      "2021-07-09        0.0             0  428.794169  424.457471  420.086835   \n",
      "2021-07-12        0.0             0  429.814168  425.186030  420.416447   \n",
      "2021-07-13        0.0             0  430.760000  425.834569  420.815884   \n",
      "\n",
      "                 MA100       MA200     std12     std26     std50     std100  \\\n",
      "Date                                                                          \n",
      "1993-11-12   27.248624   26.794917  0.215214  0.196019  0.240952   0.494880   \n",
      "1993-11-15   27.264278   26.805386  0.217949  0.191429  0.243076   0.490803   \n",
      "1993-11-16   27.277145   26.815029  0.211890  0.186473  0.244939   0.490255   \n",
      "1993-11-17   27.289647   26.824588  0.213438  0.184520  0.245445   0.492269   \n",
      "1993-11-18   27.298794   26.831468  0.197399  0.180848  0.234552   0.492826   \n",
      "...                ...         ...       ...       ...       ...        ...   \n",
      "2021-07-07  407.252959  381.991312  5.028465  4.771303  6.184495  15.367249   \n",
      "2021-07-08  407.667657  382.524189  3.926148  4.846718  6.305445  15.383181   \n",
      "2021-07-09  408.079023  383.061620  3.461164  5.018691  6.538636  15.493220   \n",
      "2021-07-12  408.554558  383.602025  3.463038  5.187506  6.886278  15.596318   \n",
      "2021-07-13  409.046439  384.194361  3.544877  5.478235  7.212262  15.686702   \n",
      "\n",
      "               std200  % day (o&c)  % day (l&h)  % change (o&c) & (l&h)  \n",
      "Date                                                                     \n",
      "1993-11-12   0.617865     0.268998     0.672948              150.168237  \n",
      "1993-11-15   0.618970    -0.267738     0.538358              101.076716  \n",
      "1993-11-16   0.620830     0.267917     0.739744              176.109617  \n",
      "1993-11-17   0.624088    -0.600801     0.875421               45.708941  \n",
      "1993-11-18   0.627020    -0.134499     0.607698              351.823093  \n",
      "...               ...          ...          ...                     ...  \n",
      "2021-07-07  30.595095     0.184474     0.753169              308.280366  \n",
      "2021-07-08  30.476439     0.499094     0.984754               97.308461  \n",
      "2021-07-09  30.405359     0.691279     1.191058               72.297627  \n",
      "2021-07-12  30.370643     0.378934     0.547165               44.395795  \n",
      "2021-07-13  30.235251    -0.148999     0.581195              290.065793  \n",
      "\n",
      "[6965 rows x 20 columns]\n"
     ]
    }
   ],
   "source": [
    "data[\"MA12\"] = data[\"Open\"].rolling(window=12).mean()\n",
    "data[\"MA26\"] = data[\"Open\"].rolling(window=26).mean()\n",
    "data[\"MA50\"] = data[\"Open\"].rolling(window=50).mean()\n",
    "data[\"MA100\"] = data[\"Open\"].rolling(window=100).mean()\n",
    "data[\"MA200\"] = data[\"Open\"].rolling(window=200).mean() # possibly use data.iloc[:,0] instead data[\"Open\"]\n",
    "\n",
    "data[\"std12\"] = data[\"Open\"].rolling(window=12).std()\n",
    "data[\"std26\"] = data[\"Open\"].rolling(window=26).std()\n",
    "data[\"std50\"] = data[\"Open\"].rolling(window=50).std()\n",
    "data[\"std100\"] = data[\"Open\"].rolling(window=100).std()\n",
    "data[\"std200\"] = data[\"Open\"].rolling(window=200).std()\n",
    "\n",
    "data[\"% day (o&c)\"] = (data[\"Close\"] / data[\"Open\"] - 1)*100 # change in % between price open and price close\n",
    "data[\"% day (l&h)\"] = (data[\"High\"] / data[\"Low\"] - 1)*100 # change in % between price low and price high\n",
    "data[\"% change (o&c) & (l&h)\"] = (data[\"% day (l&h)\"] / ((data[\"% day (o&c)\"]**2)**0.5) - 1)*100  # change in %\n",
    "# between (price open/price close) and (price low/price high)\n",
    "\n",
    "print(data.iloc[200:,])\n",
    "\n",
    "# ((data[\"% day (o&c)\"]**2)**0.5)"
   ]
  },
  {
   "cell_type": "code",
   "execution_count": null,
   "metadata": {},
   "outputs": [],
   "source": []
  },
  {
   "cell_type": "code",
   "execution_count": null,
   "metadata": {},
   "outputs": [],
   "source": []
  },
  {
   "cell_type": "code",
   "execution_count": null,
   "metadata": {},
   "outputs": [],
   "source": []
  },
  {
   "cell_type": "code",
   "execution_count": null,
   "metadata": {},
   "outputs": [],
   "source": []
  },
  {
   "cell_type": "code",
   "execution_count": null,
   "metadata": {},
   "outputs": [],
   "source": []
  },
  {
   "cell_type": "code",
   "execution_count": 5,
   "metadata": {},
   "outputs": [],
   "source": [
    "# %matplotlib inline\n",
    "# data = data['Open']\n",
    "# data.plot()"
   ]
  },
  {
   "cell_type": "code",
   "execution_count": 6,
   "metadata": {},
   "outputs": [],
   "source": [
    "# rolling = data.rolling(365, center=True)\n",
    "# data1 = pd.DataFrame({'input': data,\n",
    "#                     'one-year rolling_mean': rolling.mean(),\n",
    "#                     'one-year rolling_std': rolling.std()})\n",
    "# ax = data1.plot(style=['-', '--', ':'])\n",
    "# ax.lines[0].set_alpha(0.3)"
   ]
  },
  {
   "cell_type": "code",
   "execution_count": 7,
   "metadata": {},
   "outputs": [],
   "source": [
    "# for i in range(0,data.shape[0]-2):\n",
    "#     data.loc[data.index[i+2],'SMA_3'] = np.round(((data.iloc[i,1]+ data.iloc[i+1,1] +data.iloc[i+2,1])/3),1)\n",
    "# data.head()"
   ]
  },
  {
   "cell_type": "code",
   "execution_count": 8,
   "metadata": {},
   "outputs": [],
   "source": [
    "# data['pandas_SMA_3'] = data.iloc[:,1].rolling(window=3).mean()\n",
    "# data.head()"
   ]
  },
  {
   "cell_type": "code",
   "execution_count": null,
   "metadata": {},
   "outputs": [],
   "source": []
  }
 ],
 "metadata": {
  "kernelspec": {
   "display_name": "Python 3",
   "language": "python",
   "name": "python3"
  },
  "language_info": {
   "codemirror_mode": {
    "name": "ipython",
    "version": 3
   },
   "file_extension": ".py",
   "mimetype": "text/x-python",
   "name": "python",
   "nbconvert_exporter": "python",
   "pygments_lexer": "ipython3",
   "version": "3.8.10"
  }
 },
 "nbformat": 4,
 "nbformat_minor": 4
}
