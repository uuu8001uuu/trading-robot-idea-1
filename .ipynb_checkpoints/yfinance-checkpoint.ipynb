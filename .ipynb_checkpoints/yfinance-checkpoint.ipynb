{
 "cells": [
  {
   "cell_type": "code",
   "execution_count": 20,
   "id": "a0ae6795",
   "metadata": {},
   "outputs": [],
   "source": [
    "import yfinance as yf\n",
    "import pandas as pd"
   ]
  },
  {
   "cell_type": "code",
   "execution_count": 33,
   "id": "20a74c6d",
   "metadata": {},
   "outputs": [
    {
     "name": "stdout",
     "output_type": "stream",
     "text": [
      "Date\n",
      "1987-09-21    2.0\n",
      "1990-04-16    2.0\n",
      "1991-06-27    1.5\n",
      "1992-06-15    1.5\n",
      "1994-05-23    2.0\n",
      "1996-12-09    2.0\n",
      "1998-02-23    2.0\n",
      "1999-03-29    2.0\n",
      "2003-02-18    2.0\n",
      "Name: Stock Splits, dtype: float64\n"
     ]
    }
   ],
   "source": [
    "# msft = yf.Ticker(\"MSFT\") \n",
    "\n",
    "# print(msft.info)\n",
    "# print(msft.actions)\n",
    "# print(msft.dividends)\n",
    "# print(msft.splits)\n",
    "# print(msft.financials)\n",
    "# print(msft.quarterly_financials)\n",
    "# print(msft.major_holders)\n",
    "# print(msft.institutional_holders)\n",
    "# print(msft.balance_sheet)\n",
    "# print(msft.quarterly_balance_sheet)\n",
    "# print(msft.cashflow)\n",
    "# print(msft.quarterly_cashflow)\n",
    "# print(msft.earnings)\n",
    "# print(msft.quarterly_earnings)\n",
    "# print(msft.sustainability)\n",
    "# print(msft.recommendations)\n",
    "# print(msft.calendar)\n",
    "# print(msft.isin)\n",
    "# print(msft.options) # show options expirations\n",
    "# print(msft.option_chain('2021-07-16'))"
   ]
  },
  {
   "cell_type": "code",
   "execution_count": 3,
   "id": "9d1382f8",
   "metadata": {},
   "outputs": [],
   "source": [
    "# valid periods: 1d,5d,1mo,3mo,6mo,1y,2y,5y,10y,ytd,max\n",
    "# hist = msft.history(period=\"max\")\n",
    "\n",
    "# hist = msft.history(start=\"2017-01-01\", end=\"2017-04-30\")\n",
    "# print(hist)\n"
   ]
  },
  {
   "cell_type": "code",
   "execution_count": 4,
   "id": "9c56662e",
   "metadata": {},
   "outputs": [],
   "source": [
    "# fetch data by interval (including intraday if period < 60 days)\n",
    "# valid intervals: 1m,2m,5m,15m,30m,60m,90m,1h,1d,5d,1wk,1mo,3mo\n",
    "# hist = msft.history(period=\"5D\", interval = \"1h\")\n",
    "\n",
    "# hist = msft.history(start=\"2021-07-09\", end=\"2021-07-12\", interval = \"1h\")\n",
    "# print(hist)"
   ]
  },
  {
   "cell_type": "code",
   "execution_count": 16,
   "id": "5bc968df",
   "metadata": {},
   "outputs": [],
   "source": [
    "# tickers = yf.Tickers('msft aapl goog')\n",
    "# ^ возвращает именованный кортеж объектов Ticker\n",
    "\n",
    "# получить доступ к каждому тикеру, используя (пример)\n",
    "# tickers.tickers.MSFT.info\n",
    "# tickers.tickers.AAPL.history(period=\"1mo\")\n",
    "# tickers.tickers.GOOG.actions"
   ]
  },
  {
   "cell_type": "code",
   "execution_count": null,
   "id": "61420ef9",
   "metadata": {},
   "outputs": [],
   "source": [
    "# data = yf.download(\"SPY AAPL\", start=\"2017-01-01\", end=\"2017-01-30\")\n",
    "# print(data)"
   ]
  },
  {
   "cell_type": "markdown",
   "id": "49acf1d8",
   "metadata": {},
   "source": [
    "Далее уже попытка взаимодействия с возможностями билиотеки"
   ]
  },
  {
   "cell_type": "code",
   "execution_count": 18,
   "id": "db2f1169",
   "metadata": {},
   "outputs": [
    {
     "name": "stdout",
     "output_type": "stream",
     "text": [
      "[*********************100%***********************]  1 of 1 completed\n",
      "[*********************100%***********************]  1 of 1 completed\n"
     ]
    }
   ],
   "source": [
    "tickerStrings = ['AAPL', 'MSFT']\n",
    "df_list = list()\n",
    "for ticker in tickerStrings:\n",
    "    data = yf.download(ticker, group_by=\"Ticker\", period='2d')\n",
    "    data['ticker'] = ticker  # add this column becasue the dataframe doesn't contain a column with the ticker | добавьте этот столбец, потому что фрейм данных не содержит столбца с тикером\n",
    "    df_list.append(data)\n",
    "\n",
    "# combine all dataframes into a single dataframe | объединить все фреймы данных в один фрейм данных\n",
    "df = pd.concat(df_list)\n",
    "\n",
    "# save to csv\n",
    "df.to_csv('ticker.csv')"
   ]
  }
 ],
 "metadata": {
  "kernelspec": {
   "display_name": "Python 3",
   "language": "python",
   "name": "python3"
  },
  "language_info": {
   "codemirror_mode": {
    "name": "ipython",
    "version": 3
   },
   "file_extension": ".py",
   "mimetype": "text/x-python",
   "name": "python",
   "nbconvert_exporter": "python",
   "pygments_lexer": "ipython3",
   "version": "3.8.10"
  }
 },
 "nbformat": 4,
 "nbformat_minor": 5
}
