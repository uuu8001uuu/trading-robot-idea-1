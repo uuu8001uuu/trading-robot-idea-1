{
 "cells": [
  {
   "cell_type": "code",
   "execution_count": 1,
   "metadata": {
    "id": "-odnbgFDtlzk"
   },
   "outputs": [],
   "source": [
    "import pandas as pd\n",
    "from datetime import timedelta\n",
    "import numpy as np\n",
    "import tensorflow as tf\n",
    "from sklearn.preprocessing import StandardScaler\n",
    "from sklearn.metrics import mean_absolute_error\n",
    "from matplotlib import pyplot as plt\n",
    "from typing import List"
   ]
  },
  {
   "cell_type": "code",
   "execution_count": 2,
   "metadata": {
    "id": "CE1Pcju5tqx_"
   },
   "outputs": [],
   "source": [
    "df = pd.read_csv('data_set.csv', index_col='Date')"
   ]
  },
  {
   "cell_type": "code",
   "execution_count": 3,
   "metadata": {},
   "outputs": [],
   "source": [
    "# code used with https://colab.research.google.com/drive/1MW1s8N5Q2jNOVxo5juYww-r1ET7-wi32?usp=sharing\n",
    "# https://www.youtube.com/watch?v=LI94ZkjE_w4"
   ]
  },
  {
   "cell_type": "code",
   "execution_count": 4,
   "metadata": {
    "colab": {
     "base_uri": "https://localhost:8080/"
    },
    "id": "9T_OuqICwudq",
    "outputId": "cc7efabb-b351-4764-d5e0-59333f2903a7"
   },
   "outputs": [
    {
     "data": {
      "text/plain": [
       "(6973, 35)"
      ]
     },
     "execution_count": 4,
     "metadata": {},
     "output_type": "execute_result"
    }
   ],
   "source": [
    "df.shape"
   ]
  },
  {
   "cell_type": "code",
   "execution_count": 5,
   "metadata": {
    "colab": {
     "base_uri": "https://localhost:8080/",
     "height": 204
    },
    "id": "QoXGZ3hewxKN",
    "outputId": "1903cecd-e2cc-4787-9620-095b03ad6f40"
   },
   "outputs": [
    {
     "data": {
      "text/html": [
       "<div>\n",
       "<style scoped>\n",
       "    .dataframe tbody tr th:only-of-type {\n",
       "        vertical-align: middle;\n",
       "    }\n",
       "\n",
       "    .dataframe tbody tr th {\n",
       "        vertical-align: top;\n",
       "    }\n",
       "\n",
       "    .dataframe thead th {\n",
       "        text-align: right;\n",
       "    }\n",
       "</style>\n",
       "<table border=\"1\" class=\"dataframe\">\n",
       "  <thead>\n",
       "    <tr style=\"text-align: right;\">\n",
       "      <th></th>\n",
       "      <th>Open</th>\n",
       "      <th>High</th>\n",
       "      <th>Low</th>\n",
       "      <th>Close</th>\n",
       "      <th>Volume</th>\n",
       "      <th>Dividends</th>\n",
       "      <th>Stock Splits</th>\n",
       "      <th>MA12</th>\n",
       "      <th>MA26</th>\n",
       "      <th>MA50</th>\n",
       "      <th>...</th>\n",
       "      <th>% day (ma12&amp;ma50) (cd 12&amp;50)</th>\n",
       "      <th>% day (ma12&amp;ma100) (cd 12&amp;100)</th>\n",
       "      <th>% day (ma12&amp;ma200) (cd 12&amp;200)</th>\n",
       "      <th>EIS</th>\n",
       "      <th>EE centerline</th>\n",
       "      <th>EE myvar</th>\n",
       "      <th>EE myvars</th>\n",
       "      <th>EE mymov</th>\n",
       "      <th>EE Above</th>\n",
       "      <th>EE Belowe</th>\n",
       "    </tr>\n",
       "    <tr>\n",
       "      <th>Date</th>\n",
       "      <th></th>\n",
       "      <th></th>\n",
       "      <th></th>\n",
       "      <th></th>\n",
       "      <th></th>\n",
       "      <th></th>\n",
       "      <th></th>\n",
       "      <th></th>\n",
       "      <th></th>\n",
       "      <th></th>\n",
       "      <th></th>\n",
       "      <th></th>\n",
       "      <th></th>\n",
       "      <th></th>\n",
       "      <th></th>\n",
       "      <th></th>\n",
       "      <th></th>\n",
       "      <th></th>\n",
       "      <th></th>\n",
       "      <th></th>\n",
       "      <th></th>\n",
       "    </tr>\n",
       "  </thead>\n",
       "  <tbody>\n",
       "    <tr>\n",
       "      <th>1993-11-11</th>\n",
       "      <td>27.799976</td>\n",
       "      <td>27.874707</td>\n",
       "      <td>27.706562</td>\n",
       "      <td>27.725245</td>\n",
       "      <td>88900</td>\n",
       "      <td>0.0</td>\n",
       "      <td>0</td>\n",
       "      <td>27.781295</td>\n",
       "      <td>27.797104</td>\n",
       "      <td>27.643933</td>\n",
       "      <td>...</td>\n",
       "      <td>0.496899</td>\n",
       "      <td>2.002303</td>\n",
       "      <td>3.719210</td>\n",
       "      <td>1</td>\n",
       "      <td>27.797104</td>\n",
       "      <td>0.077602</td>\n",
       "      <td>0.006022</td>\n",
       "      <td>0.307292</td>\n",
       "      <td>28.411687</td>\n",
       "      <td>27.182521</td>\n",
       "    </tr>\n",
       "    <tr>\n",
       "      <th>1993-11-12</th>\n",
       "      <td>27.781308</td>\n",
       "      <td>27.949453</td>\n",
       "      <td>27.762625</td>\n",
       "      <td>27.856039</td>\n",
       "      <td>108200</td>\n",
       "      <td>0.0</td>\n",
       "      <td>0</td>\n",
       "      <td>27.784410</td>\n",
       "      <td>27.803572</td>\n",
       "      <td>27.646631</td>\n",
       "      <td>...</td>\n",
       "      <td>0.498357</td>\n",
       "      <td>1.966286</td>\n",
       "      <td>3.692839</td>\n",
       "      <td>2</td>\n",
       "      <td>27.803572</td>\n",
       "      <td>0.145881</td>\n",
       "      <td>0.021281</td>\n",
       "      <td>0.307538</td>\n",
       "      <td>28.418648</td>\n",
       "      <td>27.188496</td>\n",
       "    </tr>\n",
       "    <tr>\n",
       "      <th>1993-11-15</th>\n",
       "      <td>27.912078</td>\n",
       "      <td>27.912078</td>\n",
       "      <td>27.762616</td>\n",
       "      <td>27.837347</td>\n",
       "      <td>243300</td>\n",
       "      <td>0.0</td>\n",
       "      <td>0</td>\n",
       "      <td>27.790637</td>\n",
       "      <td>27.816506</td>\n",
       "      <td>27.654544</td>\n",
       "      <td>...</td>\n",
       "      <td>0.492120</td>\n",
       "      <td>1.930584</td>\n",
       "      <td>3.675571</td>\n",
       "      <td>2</td>\n",
       "      <td>27.816506</td>\n",
       "      <td>0.095572</td>\n",
       "      <td>0.009134</td>\n",
       "      <td>0.307678</td>\n",
       "      <td>28.431863</td>\n",
       "      <td>27.201150</td>\n",
       "    </tr>\n",
       "    <tr>\n",
       "      <th>1993-11-16</th>\n",
       "      <td>27.893405</td>\n",
       "      <td>27.986819</td>\n",
       "      <td>27.781308</td>\n",
       "      <td>27.968136</td>\n",
       "      <td>492600</td>\n",
       "      <td>0.0</td>\n",
       "      <td>0</td>\n",
       "      <td>27.782854</td>\n",
       "      <td>27.828003</td>\n",
       "      <td>27.661340</td>\n",
       "      <td>...</td>\n",
       "      <td>0.439289</td>\n",
       "      <td>1.853965</td>\n",
       "      <td>3.609263</td>\n",
       "      <td>2</td>\n",
       "      <td>27.828003</td>\n",
       "      <td>0.158815</td>\n",
       "      <td>0.025222</td>\n",
       "      <td>0.308037</td>\n",
       "      <td>28.444077</td>\n",
       "      <td>27.211930</td>\n",
       "    </tr>\n",
       "    <tr>\n",
       "      <th>1993-11-17</th>\n",
       "      <td>27.986798</td>\n",
       "      <td>27.986798</td>\n",
       "      <td>27.743922</td>\n",
       "      <td>27.818653</td>\n",
       "      <td>39600</td>\n",
       "      <td>0.0</td>\n",
       "      <td>0</td>\n",
       "      <td>27.784411</td>\n",
       "      <td>27.841656</td>\n",
       "      <td>27.673718</td>\n",
       "      <td>...</td>\n",
       "      <td>0.399991</td>\n",
       "      <td>1.813010</td>\n",
       "      <td>3.578146</td>\n",
       "      <td>2</td>\n",
       "      <td>27.841656</td>\n",
       "      <td>0.145142</td>\n",
       "      <td>0.021066</td>\n",
       "      <td>0.307174</td>\n",
       "      <td>28.456003</td>\n",
       "      <td>27.227308</td>\n",
       "    </tr>\n",
       "  </tbody>\n",
       "</table>\n",
       "<p>5 rows × 35 columns</p>\n",
       "</div>"
      ],
      "text/plain": [
       "                 Open       High        Low      Close  Volume  Dividends  \\\n",
       "Date                                                                        \n",
       "1993-11-11  27.799976  27.874707  27.706562  27.725245   88900        0.0   \n",
       "1993-11-12  27.781308  27.949453  27.762625  27.856039  108200        0.0   \n",
       "1993-11-15  27.912078  27.912078  27.762616  27.837347  243300        0.0   \n",
       "1993-11-16  27.893405  27.986819  27.781308  27.968136  492600        0.0   \n",
       "1993-11-17  27.986798  27.986798  27.743922  27.818653   39600        0.0   \n",
       "\n",
       "            Stock Splits       MA12       MA26       MA50  ...  \\\n",
       "Date                                                       ...   \n",
       "1993-11-11             0  27.781295  27.797104  27.643933  ...   \n",
       "1993-11-12             0  27.784410  27.803572  27.646631  ...   \n",
       "1993-11-15             0  27.790637  27.816506  27.654544  ...   \n",
       "1993-11-16             0  27.782854  27.828003  27.661340  ...   \n",
       "1993-11-17             0  27.784411  27.841656  27.673718  ...   \n",
       "\n",
       "            % day (ma12&ma50) (cd 12&50)  % day (ma12&ma100) (cd 12&100)  \\\n",
       "Date                                                                       \n",
       "1993-11-11                      0.496899                        2.002303   \n",
       "1993-11-12                      0.498357                        1.966286   \n",
       "1993-11-15                      0.492120                        1.930584   \n",
       "1993-11-16                      0.439289                        1.853965   \n",
       "1993-11-17                      0.399991                        1.813010   \n",
       "\n",
       "            % day (ma12&ma200) (cd 12&200)  EIS  EE centerline  EE myvar  \\\n",
       "Date                                                                       \n",
       "1993-11-11                        3.719210    1      27.797104  0.077602   \n",
       "1993-11-12                        3.692839    2      27.803572  0.145881   \n",
       "1993-11-15                        3.675571    2      27.816506  0.095572   \n",
       "1993-11-16                        3.609263    2      27.828003  0.158815   \n",
       "1993-11-17                        3.578146    2      27.841656  0.145142   \n",
       "\n",
       "            EE myvars  EE mymov   EE Above  EE Belowe  \n",
       "Date                                                   \n",
       "1993-11-11   0.006022  0.307292  28.411687  27.182521  \n",
       "1993-11-12   0.021281  0.307538  28.418648  27.188496  \n",
       "1993-11-15   0.009134  0.307678  28.431863  27.201150  \n",
       "1993-11-16   0.025222  0.308037  28.444077  27.211930  \n",
       "1993-11-17   0.021066  0.307174  28.456003  27.227308  \n",
       "\n",
       "[5 rows x 35 columns]"
      ]
     },
     "execution_count": 5,
     "metadata": {},
     "output_type": "execute_result"
    }
   ],
   "source": [
    "df.head(5)"
   ]
  },
  {
   "cell_type": "code",
   "execution_count": 6,
   "metadata": {},
   "outputs": [],
   "source": [
    "# df[['Open', 'High', 'Low', 'Close', 'Volume', 'Dividends', 'Stock Splits',\n",
    "#        'MA12', 'MA26', 'MA50', 'MA100', 'MA200', 'MA13', 'std12', 'std26',\n",
    "#        'std50', 'std100', 'std200', '% day (o&c)', '% day (l&h)',\n",
    "#        '% change (o&c) & (l&h)', '% day (ma12&ma26) (cd 12&26)',\n",
    "#        '% day (ma26&ma50) (cd 26&50)', '% day (ma50&ma100) (cd 50&100)',\n",
    "#        '% day (ma100&ma200) (cd 100&200)', '% day (ma12&ma50) (cd 12&50)',\n",
    "#        '% day (ma12&ma100) (cd 12&100)', '% day (ma12&ma200) (cd 12&200)',\n",
    "#        'EIS', 'EE centerline', 'EE myvar', 'EE myvars', 'EE mymov', 'EE Above',\n",
    "#        'EE Belowe']].corr()"
   ]
  },
  {
   "cell_type": "code",
   "execution_count": 7,
   "metadata": {},
   "outputs": [],
   "source": [
    "df = df.reset_index()"
   ]
  },
  {
   "cell_type": "code",
   "execution_count": 8,
   "metadata": {},
   "outputs": [],
   "source": [
    "# Columns Date assign type datetime64[ns]\n",
    "from datetime import datetime\n",
    "from functools import partial\n",
    "to_datetime_fmt = partial(pd.to_datetime, format='%Y-%M-%d')\n",
    "df['Date'] = df['Date'].apply(to_datetime_fmt)"
   ]
  },
  {
   "cell_type": "code",
   "execution_count": 9,
   "metadata": {
    "scrolled": true
   },
   "outputs": [],
   "source": [
    "# print(df.dtypes)\n",
    "# df"
   ]
  },
  {
   "cell_type": "code",
   "execution_count": null,
   "metadata": {},
   "outputs": [],
   "source": []
  },
  {
   "cell_type": "code",
   "execution_count": null,
   "metadata": {},
   "outputs": [],
   "source": []
  },
  {
   "cell_type": "code",
   "execution_count": null,
   "metadata": {},
   "outputs": [],
   "source": []
  },
  {
   "cell_type": "code",
   "execution_count": 10,
   "metadata": {
    "id": "NFxqhXGDxie1"
   },
   "outputs": [],
   "source": [
    "df_6_yr = df[df[\"Date\"] > df[\"Date\"].max() - timedelta(days=365 * 6)]"
   ]
  },
  {
   "cell_type": "code",
   "execution_count": 11,
   "metadata": {
    "colab": {
     "base_uri": "https://localhost:8080/"
    },
    "id": "_ufLCAGEzcD-",
    "outputId": "20e053cf-4230-4913-ba3f-af0d6a6d2318"
   },
   "outputs": [
    {
     "data": {
      "text/plain": [
       "(1398, 36)"
      ]
     },
     "execution_count": 11,
     "metadata": {},
     "output_type": "execute_result"
    }
   ],
   "source": [
    "df_6_yr.shape"
   ]
  },
  {
   "cell_type": "code",
   "execution_count": 12,
   "metadata": {
    "colab": {
     "base_uri": "https://localhost:8080/"
    },
    "id": "Qc68gDYQzeqH",
    "outputId": "7db4faf0-3f8c-4b06-b086-6341989152d7"
   },
   "outputs": [
    {
     "data": {
      "text/plain": [
       "(Timestamp('2016-01-01 00:02:00'), Timestamp('2021-01-31 00:03:00'))"
      ]
     },
     "execution_count": 12,
     "metadata": {},
     "output_type": "execute_result"
    }
   ],
   "source": [
    "df_6_yr[\"Date\"].min(), df_6_yr[\"Date\"].max()"
   ]
  },
  {
   "cell_type": "code",
   "execution_count": 13,
   "metadata": {
    "id": "fFB6AfMAzkyO"
   },
   "outputs": [],
   "source": [
    "train_size = int(df_6_yr.shape[0] * 0.8)\n",
    "train_df = df_6_yr.iloc[:train_size]\n",
    "val_df = df_6_yr.iloc[train_size:]"
   ]
  },
  {
   "cell_type": "code",
   "execution_count": 14,
   "metadata": {
    "colab": {
     "base_uri": "https://localhost:8080/"
    },
    "id": "EqEtb2W30ayC",
    "outputId": "84cf8237-73d1-4554-a04d-57961eddca9a"
   },
   "outputs": [
    {
     "data": {
      "text/plain": [
       "((1118, 36), (280, 36))"
      ]
     },
     "execution_count": 14,
     "metadata": {},
     "output_type": "execute_result"
    }
   ],
   "source": [
    "train_df.shape, val_df.shape"
   ]
  },
  {
   "cell_type": "code",
   "execution_count": 15,
   "metadata": {
    "colab": {
     "base_uri": "https://localhost:8080/"
    },
    "id": "0VVETX231InH",
    "outputId": "8f61ff3e-2a23-4c06-9885-ed1313f9d90f"
   },
   "outputs": [
    {
     "data": {
      "text/plain": [
       "(Timestamp('2016-01-01 00:02:00'),\n",
       " Timestamp('2020-01-31 00:03:00'),\n",
       " Timestamp('2020-01-01 00:07:00'),\n",
       " Timestamp('2021-01-31 00:03:00'))"
      ]
     },
     "execution_count": 15,
     "metadata": {},
     "output_type": "execute_result"
    }
   ],
   "source": [
    "train_df[\"Date\"].min(), train_df[\"Date\"].max(), val_df[\"Date\"].min(), val_df[\"Date\"].max()"
   ]
  },
  {
   "cell_type": "code",
   "execution_count": 16,
   "metadata": {
    "id": "SWumyS1P1WOU"
   },
   "outputs": [],
   "source": [
    "scaler = StandardScaler()\n",
    "scaler.fit(train_df[[\"Low\"]])\n",
    "\n",
    "def make_dataset(\n",
    "    df,\n",
    "     window_size, \n",
    "     batch_size,\n",
    "     use_scaler=True,\n",
    "     shuffle=True\n",
    "     ):\n",
    "  features = df[[\"Low\"]].iloc[:-window_size]\n",
    "  if use_scaler:\n",
    "    features = scaler.transform(features)\n",
    "  data = np.array(features, dtype=np.float32)\n",
    "  ds = tf.keras.preprocessing.timeseries_dataset_from_array(\n",
    "      data=data,\n",
    "      targets=df[\"Low\"].iloc[window_size:],\n",
    "      sequence_length=window_size,\n",
    "      sequence_stride=1,\n",
    "      shuffle=shuffle,\n",
    "      batch_size=batch_size)\n",
    "  return ds"
   ]
  },
  {
   "cell_type": "code",
   "execution_count": 17,
   "metadata": {
    "id": "stRNhNdv12Jx"
   },
   "outputs": [
    {
     "ename": "AttributeError",
     "evalue": "module 'tensorflow_core.keras.preprocessing' has no attribute 'timeseries_dataset_from_array'",
     "output_type": "error",
     "traceback": [
      "\u001b[0;31m---------------------------------------------------------------------------\u001b[0m",
      "\u001b[0;31mAttributeError\u001b[0m                            Traceback (most recent call last)",
      "\u001b[0;32m<ipython-input-17-926292d23dbe>\u001b[0m in \u001b[0;36m<module>\u001b[0;34m\u001b[0m\n\u001b[0;32m----> 1\u001b[0;31m \u001b[0mexample_ds\u001b[0m \u001b[0;34m=\u001b[0m \u001b[0mmake_dataset\u001b[0m\u001b[0;34m(\u001b[0m\u001b[0mdf\u001b[0m\u001b[0;34m=\u001b[0m\u001b[0mtrain_df\u001b[0m\u001b[0;34m,\u001b[0m \u001b[0mwindow_size\u001b[0m\u001b[0;34m=\u001b[0m\u001b[0;36m3\u001b[0m\u001b[0;34m,\u001b[0m \u001b[0mbatch_size\u001b[0m\u001b[0;34m=\u001b[0m\u001b[0;36m2\u001b[0m\u001b[0;34m,\u001b[0m \u001b[0muse_scaler\u001b[0m\u001b[0;34m=\u001b[0m\u001b[0;32mFalse\u001b[0m\u001b[0;34m,\u001b[0m \u001b[0mshuffle\u001b[0m\u001b[0;34m=\u001b[0m\u001b[0;32mFalse\u001b[0m\u001b[0;34m)\u001b[0m\u001b[0;34m\u001b[0m\u001b[0;34m\u001b[0m\u001b[0m\n\u001b[0m",
      "\u001b[0;32m<ipython-input-16-2473433ed023>\u001b[0m in \u001b[0;36mmake_dataset\u001b[0;34m(df, window_size, batch_size, use_scaler, shuffle)\u001b[0m\n\u001b[1;32m     13\u001b[0m     \u001b[0mfeatures\u001b[0m \u001b[0;34m=\u001b[0m \u001b[0mscaler\u001b[0m\u001b[0;34m.\u001b[0m\u001b[0mtransform\u001b[0m\u001b[0;34m(\u001b[0m\u001b[0mfeatures\u001b[0m\u001b[0;34m)\u001b[0m\u001b[0;34m\u001b[0m\u001b[0;34m\u001b[0m\u001b[0m\n\u001b[1;32m     14\u001b[0m   \u001b[0mdata\u001b[0m \u001b[0;34m=\u001b[0m \u001b[0mnp\u001b[0m\u001b[0;34m.\u001b[0m\u001b[0marray\u001b[0m\u001b[0;34m(\u001b[0m\u001b[0mfeatures\u001b[0m\u001b[0;34m,\u001b[0m \u001b[0mdtype\u001b[0m\u001b[0;34m=\u001b[0m\u001b[0mnp\u001b[0m\u001b[0;34m.\u001b[0m\u001b[0mfloat32\u001b[0m\u001b[0;34m)\u001b[0m\u001b[0;34m\u001b[0m\u001b[0;34m\u001b[0m\u001b[0m\n\u001b[0;32m---> 15\u001b[0;31m   ds = tf.keras.preprocessing.timeseries_dataset_from_array(\n\u001b[0m\u001b[1;32m     16\u001b[0m       \u001b[0mdata\u001b[0m\u001b[0;34m=\u001b[0m\u001b[0mdata\u001b[0m\u001b[0;34m,\u001b[0m\u001b[0;34m\u001b[0m\u001b[0;34m\u001b[0m\u001b[0m\n\u001b[1;32m     17\u001b[0m       \u001b[0mtargets\u001b[0m\u001b[0;34m=\u001b[0m\u001b[0mdf\u001b[0m\u001b[0;34m[\u001b[0m\u001b[0;34m\"Low\"\u001b[0m\u001b[0;34m]\u001b[0m\u001b[0;34m.\u001b[0m\u001b[0miloc\u001b[0m\u001b[0;34m[\u001b[0m\u001b[0mwindow_size\u001b[0m\u001b[0;34m:\u001b[0m\u001b[0;34m]\u001b[0m\u001b[0;34m,\u001b[0m\u001b[0;34m\u001b[0m\u001b[0;34m\u001b[0m\u001b[0m\n",
      "\u001b[0;31mAttributeError\u001b[0m: module 'tensorflow_core.keras.preprocessing' has no attribute 'timeseries_dataset_from_array'"
     ]
    }
   ],
   "source": [
    "example_ds = make_dataset(df=train_df, window_size=3, batch_size=2, use_scaler=False, shuffle=False)"
   ]
  },
  {
   "cell_type": "code",
   "execution_count": null,
   "metadata": {
    "id": "h5qmLYRB4r0E"
   },
   "outputs": [],
   "source": [
    "example_feature, example_label = next(example_ds.as_numpy_iterator())"
   ]
  },
  {
   "cell_type": "code",
   "execution_count": null,
   "metadata": {
    "colab": {
     "base_uri": "https://localhost:8080/"
    },
    "id": "6_RlW_5M41c6",
    "outputId": "da9cab57-c6f9-4ab7-ee07-565ded3f05a7"
   },
   "outputs": [],
   "source": [
    "example_feature.shape\n"
   ]
  },
  {
   "cell_type": "code",
   "execution_count": null,
   "metadata": {
    "colab": {
     "base_uri": "https://localhost:8080/"
    },
    "id": "FbQzM2Z545I0",
    "outputId": "aa106487-0d6e-4612-a8bd-792c6207d2d0"
   },
   "outputs": [],
   "source": [
    "example_label.shape\n"
   ]
  },
  {
   "cell_type": "code",
   "execution_count": null,
   "metadata": {
    "colab": {
     "base_uri": "https://localhost:8080/"
    },
    "id": "4z_IVbuy5LW7",
    "outputId": "7ca85aa7-ef8e-4f29-f9bf-4fd0fc4567a7"
   },
   "outputs": [],
   "source": [
    "train_df[\"Low\"].iloc[:6]"
   ]
  },
  {
   "cell_type": "code",
   "execution_count": null,
   "metadata": {
    "colab": {
     "base_uri": "https://localhost:8080/"
    },
    "id": "ztWglJMN5Swk",
    "outputId": "f07e4c56-b882-4362-f0f2-9e098029f16d"
   },
   "outputs": [],
   "source": [
    "print(example_feature[0])\n",
    "print(example_label[0])"
   ]
  },
  {
   "cell_type": "code",
   "execution_count": null,
   "metadata": {
    "colab": {
     "base_uri": "https://localhost:8080/"
    },
    "id": "hqZDCLIV5VU4",
    "outputId": "7144c8e1-9c8c-473c-8ca1-f125b978d17b"
   },
   "outputs": [],
   "source": [
    "print(example_feature[1])\n",
    "print(example_label[1])"
   ]
  },
  {
   "cell_type": "code",
   "execution_count": null,
   "metadata": {
    "id": "m2FJVRwC5y37"
   },
   "outputs": [],
   "source": [
    "window_size = 10\n",
    "batch_size = 8\n",
    "train_ds = make_dataset(df=train_df, window_size=window_size, batch_size=batch_size, use_scaler=True, shuffle=True)\n",
    "val_ds = make_dataset(df=val_df, window_size=window_size, batch_size=batch_size, use_scaler=True, shuffle=True)"
   ]
  },
  {
   "cell_type": "code",
   "execution_count": null,
   "metadata": {
    "id": "aAcp89cd6ih9"
   },
   "outputs": [],
   "source": [
    "lstm_model = tf.keras.models.Sequential([\n",
    "    tf.keras.layers.LSTM(32, return_sequences=False),\n",
    "    tf.keras.layers.Dense(1)\n",
    "])"
   ]
  },
  {
   "cell_type": "code",
   "execution_count": null,
   "metadata": {
    "id": "Ydtm-GkZ7HRy"
   },
   "outputs": [],
   "source": [
    "def compile_and_fit(model, train_ds, val_ds, num_epochs: int = 20):\n",
    "  model.compile(\n",
    "        loss=tf.losses.MeanSquaredError(),\n",
    "        optimizer=tf.optimizers.Adam(),\n",
    "        metrics=[tf.metrics.MeanAbsoluteError()]\n",
    "      )\n",
    "  history = model.fit(\n",
    "      train_ds, \n",
    "      epochs=num_epochs,\n",
    "      validation_data=val_ds,\n",
    "      verbose=0\n",
    "      )\n",
    "  return history"
   ]
  },
  {
   "cell_type": "code",
   "execution_count": null,
   "metadata": {
    "id": "_OI_tmAo8nlv"
   },
   "outputs": [],
   "source": [
    "history =  compile_and_fit(lstm_model, train_ds, val_ds, num_epochs=100)"
   ]
  },
  {
   "cell_type": "code",
   "execution_count": null,
   "metadata": {
    "colab": {
     "base_uri": "https://localhost:8080/",
     "height": 282
    },
    "id": "CC0-qTBL8szH",
    "outputId": "b70c3c1c-8a4f-4e72-9445-31e4331b59eb"
   },
   "outputs": [],
   "source": [
    "plt.plot(history.history['mean_absolute_error'])"
   ]
  },
  {
   "cell_type": "code",
   "execution_count": null,
   "metadata": {
    "colab": {
     "base_uri": "https://localhost:8080/",
     "height": 282
    },
    "id": "1-yMCnaq9Q_i",
    "outputId": "3195dd74-950a-4bab-f753-06c6368f4a20"
   },
   "outputs": [],
   "source": [
    "plt.plot(history.history['val_mean_absolute_error'])"
   ]
  },
  {
   "cell_type": "code",
   "execution_count": null,
   "metadata": {
    "colab": {
     "base_uri": "https://localhost:8080/"
    },
    "id": "pF2x7Qyz9SvG",
    "outputId": "f10d83c9-e608-456c-a63d-1dcf7836fee7"
   },
   "outputs": [],
   "source": [
    "lstm_model.evaluate(train_ds)"
   ]
  },
  {
   "cell_type": "code",
   "execution_count": null,
   "metadata": {
    "colab": {
     "base_uri": "https://localhost:8080/"
    },
    "id": "j3JZwjlM9bJ-",
    "outputId": "6c0099c1-64f2-4033-f52e-e2aaa34deb68"
   },
   "outputs": [],
   "source": [
    "lstm_model.evaluate(val_ds)"
   ]
  },
  {
   "cell_type": "code",
   "execution_count": null,
   "metadata": {
    "id": "JmmN9-269cvx"
   },
   "outputs": [],
   "source": [
    "lstm_model = tf.keras.models.Sequential([\n",
    "    tf.keras.layers.LSTM(32, return_sequences=False),\n",
    "    tf.keras.layers.Dense(1)\n",
    "])\n",
    "\n",
    "history =  compile_and_fit(lstm_model, train_ds, val_ds, num_epochs=500)"
   ]
  },
  {
   "cell_type": "code",
   "execution_count": null,
   "metadata": {
    "colab": {
     "base_uri": "https://localhost:8080/"
    },
    "id": "VBf8xfy99qlz",
    "outputId": "1b596639-deef-4d56-8fba-d9ced7ba1fbf"
   },
   "outputs": [],
   "source": [
    "lstm_model.evaluate(train_ds)"
   ]
  },
  {
   "cell_type": "code",
   "execution_count": null,
   "metadata": {
    "colab": {
     "base_uri": "https://localhost:8080/"
    },
    "id": "dsB_Lps8_1-m",
    "outputId": "0673418b-0243-4ccb-feca-2b47634c4746"
   },
   "outputs": [],
   "source": [
    "lstm_model.evaluate(val_ds)"
   ]
  },
  {
   "cell_type": "code",
   "execution_count": null,
   "metadata": {
    "colab": {
     "base_uri": "https://localhost:8080/",
     "height": 282
    },
    "id": "4wIA7zE7_3Eo",
    "outputId": "6ae11394-e033-4ed2-9f7f-9657f56e2d99"
   },
   "outputs": [],
   "source": [
    "plt.plot(history.history['mean_absolute_error'])"
   ]
  },
  {
   "cell_type": "code",
   "execution_count": null,
   "metadata": {
    "colab": {
     "base_uri": "https://localhost:8080/",
     "height": 282
    },
    "id": "ax7eiK-eAAQV",
    "outputId": "46047019-111a-4282-a2fb-ed2a9bf87589"
   },
   "outputs": [],
   "source": [
    "plt.plot(history.history['val_mean_absolute_error'])"
   ]
  },
  {
   "cell_type": "code",
   "execution_count": null,
   "metadata": {
    "id": "J7XbkzUrABzO"
   },
   "outputs": [],
   "source": [
    "lstm_model = tf.keras.models.Sequential([\n",
    "    tf.keras.layers.LSTM(32, return_sequences=False),\n",
    "    tf.keras.layers.Dropout(0.2),\n",
    "    tf.keras.layers.Dense(1)\n",
    "])\n",
    "\n",
    "history =  compile_and_fit(lstm_model, train_ds, val_ds, num_epochs=500)"
   ]
  },
  {
   "cell_type": "code",
   "execution_count": null,
   "metadata": {
    "colab": {
     "base_uri": "https://localhost:8080/"
    },
    "id": "eQMHAnrQAWkV",
    "outputId": "3426d9a0-5db0-4144-9cd4-06e972bf5521"
   },
   "outputs": [],
   "source": [
    "lstm_model.evaluate(train_ds)"
   ]
  },
  {
   "cell_type": "code",
   "execution_count": null,
   "metadata": {
    "colab": {
     "base_uri": "https://localhost:8080/"
    },
    "id": "Mz_QJBH6CerO",
    "outputId": "18a01b53-ec5e-4d71-c527-bd6ba6a40c74"
   },
   "outputs": [],
   "source": [
    "lstm_model.evaluate(val_ds)"
   ]
  },
  {
   "cell_type": "code",
   "execution_count": null,
   "metadata": {
    "colab": {
     "base_uri": "https://localhost:8080/",
     "height": 282
    },
    "id": "e0RUvuekCgfk",
    "outputId": "fb3719ac-c9a5-4b53-9c2c-cd13bae4f143"
   },
   "outputs": [],
   "source": [
    "plt.plot(history.history['mean_absolute_error'])"
   ]
  },
  {
   "cell_type": "code",
   "execution_count": null,
   "metadata": {
    "colab": {
     "base_uri": "https://localhost:8080/",
     "height": 282
    },
    "id": "JZypsPgACmP1",
    "outputId": "956c07b9-84f9-428d-8999-c4f226bb11b6"
   },
   "outputs": [],
   "source": [
    "plt.plot(history.history['val_mean_absolute_error'])"
   ]
  },
  {
   "cell_type": "code",
   "execution_count": null,
   "metadata": {
    "id": "YQfO16wNCpBc"
   },
   "outputs": [],
   "source": []
  }
 ],
 "metadata": {
  "colab": {
   "name": "stock_market_example1.ipynb",
   "provenance": []
  },
  "kernelspec": {
   "display_name": "Python 3",
   "language": "python",
   "name": "python3"
  },
  "language_info": {
   "codemirror_mode": {
    "name": "ipython",
    "version": 3
   },
   "file_extension": ".py",
   "mimetype": "text/x-python",
   "name": "python",
   "nbconvert_exporter": "python",
   "pygments_lexer": "ipython3",
   "version": "3.7.10"
  }
 },
 "nbformat": 4,
 "nbformat_minor": 1
}
