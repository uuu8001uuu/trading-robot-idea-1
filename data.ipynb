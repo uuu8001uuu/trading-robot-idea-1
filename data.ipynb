{
 "cells": [
  {
   "cell_type": "code",
   "execution_count": 1,
   "metadata": {},
   "outputs": [
    {
     "name": "stdout",
     "output_type": "stream",
     "text": [
      "{'zip': '98052-6399', 'sector': 'Technology', 'fullTimeEmployees': 163000, 'longBusinessSummary': 'Microsoft Corporation develops, licenses, and supports software, services, devices, and solutions worldwide. Its Productivity and Business Processes segment offers Office, Exchange, SharePoint, Microsoft Teams, Office 365 Security and Compliance, and Skype for Business, as well as related Client Access Licenses (CAL); Skype, Outlook.com, OneDrive, and LinkedIn; and Dynamics 365, a set of cloud-based and on-premises business solutions for small and medium businesses, organizations, and enterprise divisions. Its Intelligent Cloud segment licenses SQL and Windows Servers, Visual Studio, System Center, and related CALs; GitHub that provides a collaboration platform and code hosting service for developers; and Azure, a cloud platform. It also offers support services and Microsoft consulting services to assist customers in developing, deploying, and managing Microsoft server and desktop solutions; and training and certification to developers and IT professionals on Microsoft products. Its More Personal Computing segment provides Windows original equipment manufacturer (OEM) licensing and other non-volume licensing of the Windows operating system; Windows Commercial, such as volume licensing of the Windows operating system, Windows cloud services, and other Windows commercial offerings; patent licensing; Windows Internet of Things; and MSN advertising. It also offers Surface, PC accessories, PCs, tablets, gaming and entertainment consoles, and other devices; Gaming, including Xbox hardware, and Xbox content and services; video games and third-party video game royalties; and Search, including Bing and Microsoft advertising. It sells its products through OEMs, distributors, and resellers; and directly through digital marketplaces, online stores, and retail stores. It has a collaboration with DXC Technology, Dynatrace, Inc., Morgan Stanley, Micro Focus, WPP plc, and iCIMS, Inc. The company was founded in 1975 and is headquartered in Redmond, Washington.', 'city': 'Redmond', 'phone': '425 882 8080', 'state': 'WA', 'country': 'United States', 'companyOfficers': [], 'website': 'http://www.microsoft.com', 'maxAge': 1, 'address1': 'One Microsoft Way', 'industry': 'Software—Infrastructure', 'ebitdaMargins': 0.47245, 'profitMargins': 0.35016, 'grossMargins': 0.68381, 'operatingCashflow': 72703000576, 'revenueGrowth': 0.191, 'operatingMargins': 0.40150002, 'ebitda': 75577999360, 'targetLowPrice': 256.7, 'recommendationKey': 'buy', 'grossProfits': 96937000000, 'freeCashflow': 37776875520, 'targetMedianPrice': 300, 'currentPrice': 277.94, 'earningsGrowth': 0.45, 'currentRatio': 2.294, 'returnOnAssets': 0.13508001, 'numberOfAnalystOpinions': 33, 'targetMeanPrice': 298.92, 'debtToEquity': 60.414, 'returnOnEquity': 0.44991, 'targetHighPrice': 340, 'totalCash': 125013000192, 'totalDebt': 81260003328, 'totalRevenue': 159969001472, 'totalCashPerShare': 16.599, 'financialCurrency': 'USD', 'revenuePerShare': 21.156, 'quickRatio': 2.096, 'recommendationMean': 1.6, 'exchange': 'NMS', 'shortName': 'Microsoft Corporation', 'longName': 'Microsoft Corporation', 'exchangeTimezoneName': 'America/New_York', 'exchangeTimezoneShortName': 'EDT', 'isEsgPopulated': False, 'gmtOffSetMilliseconds': '-14400000', 'quoteType': 'EQUITY', 'symbol': 'MSFT', 'messageBoardId': 'finmb_21835', 'market': 'us_market', 'annualHoldingsTurnover': None, 'enterpriseToRevenue': 12.788, 'beta3Year': None, 'enterpriseToEbitda': 27.067, '52WeekChange': 0.34225142, 'morningStarRiskRating': None, 'forwardEps': 8.37, 'revenueQuarterlyGrowth': None, 'sharesOutstanding': 7531570176, 'fundInceptionDate': None, 'annualReportExpenseRatio': None, 'totalAssets': None, 'bookValue': 17.853, 'sharesShort': 48137624, 'sharesPercentSharesOut': 0.0064, 'fundFamily': None, 'lastFiscalYearEnd': 1593475200, 'heldPercentInstitutions': 0.72033, 'netIncomeToCommon': 56014999552, 'trailingEps': 7.338, 'lastDividendValue': 0.56, 'SandP52WeekChange': 0.38486385, 'priceToBook': 15.568252, 'heldPercentInsiders': 0.00071999995, 'nextFiscalYearEnd': 1656547200, 'yield': None, 'mostRecentQuarter': 1617148800, 'shortRatio': 2.24, 'sharesShortPreviousMonthDate': 1620950400, 'floatShares': 7420483826, 'beta': 0.787812, 'enterpriseValue': 2045656432640, 'priceHint': 2, 'threeYearAverageReturn': None, 'lastSplitDate': 1045526400, 'lastSplitFactor': '2:1', 'legalType': None, 'lastDividendDate': 1621382400, 'morningStarOverallRating': None, 'earningsQuarterlyGrowth': 0.438, 'priceToSalesTrailing12Months': 13.085814, 'dateShortInterest': 1623715200, 'pegRatio': 2.07, 'ytdReturn': None, 'forwardPE': 33.20669, 'lastCapGain': None, 'shortPercentOfFloat': 0.0064, 'sharesShortPriorMonth': 40526093, 'impliedSharesOutstanding': None, 'category': None, 'fiveYearAverageReturn': None, 'previousClose': 277.42, 'regularMarketOpen': 275.72, 'twoHundredDayAverage': 244.03674, 'trailingAnnualDividendYield': 0.007894168, 'payoutRatio': 0.2916, 'volume24Hr': None, 'regularMarketDayHigh': 278, 'navPrice': None, 'averageDailyVolume10Day': 25961540, 'regularMarketPreviousClose': 277.42, 'fiftyDayAverage': 261.01758, 'trailingAnnualDividendRate': 2.19, 'open': 275.72, 'toCurrency': None, 'averageVolume10days': 25961540, 'expireDate': None, 'algorithm': None, 'dividendRate': 2.24, 'exDividendDate': 1629244800, 'circulatingSupply': None, 'startDate': None, 'regularMarketDayLow': 275.32, 'currency': 'USD', 'trailingPE': 37.87681, 'regularMarketVolume': 23916665, 'lastMarket': None, 'maxSupply': None, 'openInterest': None, 'marketCap': 2093324697600, 'volumeAllCurrencies': None, 'strikePrice': None, 'averageVolume': 24730149, 'dayLow': 275.32, 'ask': 0, 'askSize': 2200, 'volume': 23916665, 'fiftyTwoWeekHigh': 280.69, 'fromCurrency': None, 'fiveYearAvgDividendYield': 1.57, 'fiftyTwoWeekLow': 196.25, 'bid': 0, 'tradeable': False, 'dividendYield': 0.008, 'bidSize': 800, 'dayHigh': 278, 'regularMarketPrice': 277.94, 'logo_url': 'https://logo.clearbit.com/microsoft.com'}\n"
     ]
    }
   ],
   "source": [
    "# import pandas as pd\n",
    "import yfinance as yf\n",
    "\n",
    "msft = yf.Ticker(\"MSFT\")\n",
    "print(msft.info)"
   ]
  },
  {
   "cell_type": "code",
   "execution_count": null,
   "metadata": {},
   "outputs": [],
   "source": []
  }
 ],
 "metadata": {
  "kernelspec": {
   "display_name": "Python 3",
   "language": "python",
   "name": "python3"
  },
  "language_info": {
   "codemirror_mode": {
    "name": "ipython",
    "version": 3
   },
   "file_extension": ".py",
   "mimetype": "text/x-python",
   "name": "python",
   "nbconvert_exporter": "python",
   "pygments_lexer": "ipython3",
   "version": "3.8.10"
  }
 },
 "nbformat": 4,
 "nbformat_minor": 4
}
