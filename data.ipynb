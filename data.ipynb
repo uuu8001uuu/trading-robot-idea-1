{
 "cells": [
  {
   "cell_type": "code",
   "execution_count": 161,
   "metadata": {},
   "outputs": [
    {
     "ename": "ModuleNotFoundError",
     "evalue": "No module named 'Interval'",
     "output_type": "error",
     "traceback": [
      "\u001b[0;31m---------------------------------------------------------------------------\u001b[0m",
      "\u001b[0;31mModuleNotFoundError\u001b[0m                       Traceback (most recent call last)",
      "\u001b[0;32m<ipython-input-161-239a9c5632b1>\u001b[0m in \u001b[0;36m<module>\u001b[0;34m\u001b[0m\n\u001b[1;32m      1\u001b[0m \u001b[0;32mimport\u001b[0m \u001b[0mpandas\u001b[0m \u001b[0;32mas\u001b[0m \u001b[0mpd\u001b[0m\u001b[0;34m\u001b[0m\u001b[0;34m\u001b[0m\u001b[0m\n\u001b[0;32m----> 2\u001b[0;31m \u001b[0;32mimport\u001b[0m \u001b[0mtradingview_ta\u001b[0m \u001b[0;32mas\u001b[0m \u001b[0mtv\u001b[0m\u001b[0;34m,\u001b[0m \u001b[0mInterval\u001b[0m\u001b[0;34m\u001b[0m\u001b[0;34m\u001b[0m\u001b[0m\n\u001b[0m\u001b[1;32m      3\u001b[0m \u001b[0;32mimport\u001b[0m \u001b[0mdatatime\u001b[0m\u001b[0;34m\u001b[0m\u001b[0;34m\u001b[0m\u001b[0m\n",
      "\u001b[0;31mModuleNotFoundError\u001b[0m: No module named 'Interval'"
     ]
    }
   ],
   "source": [
    "import pandas as pd\n",
    "import tradingview_ta as tv, Interval\n",
    "import datatime"
   ]
  },
  {
   "cell_type": "code",
   "execution_count": 2,
   "metadata": {},
   "outputs": [],
   "source": [
    "# check will library yfinance work or not? uncomment code below\n",
    "\n",
    "\n",
    "# import yfinance as yf\n",
    "\n",
    "# msft = yf.Ticker(\"MSFT\")\n",
    "# print(msft.info)"
   ]
  },
  {
   "cell_type": "code",
   "execution_count": 76,
   "metadata": {},
   "outputs": [
    {
     "name": "stdout",
     "output_type": "stream",
     "text": [
      "{'RECOMMENDATION': 'BUY', 'BUY': 13, 'SELL': 5, 'NEUTRAL': 8}\n"
     ]
    }
   ],
   "source": [
    "# check will library tradingview_ta work or not? uncomment code below\n",
    "\n",
    "\n",
    "# from tradingview_ta import TA_Handler, Interval, Exchange\n",
    "\n",
    "# tesla = TA_Handler(\n",
    "#     symbol=\"TSLA\",\n",
    "#     screener=\"america\",\n",
    "#     exchange=\"NASDAQ\",\n",
    "#     interval=Interval.INTERVAL_1_DAY\n",
    "# )\n",
    "# print(tesla.get_analysis().summary)"
   ]
  },
  {
   "cell_type": "code",
   "execution_count": 160,
   "metadata": {},
   "outputs": [
    {
     "ename": "NameError",
     "evalue": "name 'time' is not defined",
     "output_type": "error",
     "traceback": [
      "\u001b[0;31m---------------------------------------------------------------------------\u001b[0m",
      "\u001b[0;31mNameError\u001b[0m                                 Traceback (most recent call last)",
      "\u001b[0;32m<ipython-input-160-9da09c6f8ce5>\u001b[0m in \u001b[0;36m<module>\u001b[0;34m\u001b[0m\n\u001b[1;32m      7\u001b[0m     \u001b[0mexchange\u001b[0m\u001b[0;34m=\u001b[0m\u001b[0;34m\"NASDAQ\"\u001b[0m\u001b[0;34m,\u001b[0m\u001b[0;34m\u001b[0m\u001b[0;34m\u001b[0m\u001b[0m\n\u001b[1;32m      8\u001b[0m     \u001b[0minterval\u001b[0m\u001b[0;34m=\u001b[0m\u001b[0mInterval\u001b[0m\u001b[0;34m.\u001b[0m\u001b[0mINTERVAL_1_DAY\u001b[0m\u001b[0;34m,\u001b[0m\u001b[0;34m\u001b[0m\u001b[0;34m\u001b[0m\u001b[0m\n\u001b[0;32m----> 9\u001b[0;31m      \u001b[0mtime\u001b[0m\u001b[0;34m=\u001b[0m\u001b[0mtime\u001b[0m\u001b[0;34m(\u001b[0m\u001b[0;36m2020\u001b[0m\u001b[0;34m-\u001b[0m\u001b[0;36m7\u001b[0m\u001b[0;34m-\u001b[0m\u001b[0;36m6.2020\u001b[0m\u001b[0;34m-\u001b[0m\u001b[0;36m7\u001b[0m\u001b[0;34m-\u001b[0m\u001b[0;36m8\u001b[0m\u001b[0;34m)\u001b[0m\u001b[0;34m,\u001b[0m\u001b[0;34m\u001b[0m\u001b[0;34m\u001b[0m\u001b[0m\n\u001b[0m\u001b[1;32m     10\u001b[0m \u001b[0;34m\u001b[0m\u001b[0m\n\u001b[1;32m     11\u001b[0m )\n",
      "\u001b[0;31mNameError\u001b[0m: name 'time' is not defined"
     ]
    }
   ],
   "source": [
    "# library tradingview_ta functions and capabilities\n",
    "# https://python-tradingview-ta.readthedocs.io/en/latest/usage.html#retrieving-multiple-analysis\n",
    "\n",
    "tilray = tv.TA_Handler(\n",
    "    symbol=\"TLRY\",\n",
    "    screener=\"america\",\n",
    "    exchange=\"NASDAQ\",\n",
    "    interval=Interval.INTERVAL_1_DAY,\n",
    "#      time=time(2020-7-6.2020-7-8),\n",
    "\n",
    ")\n",
    "\n",
    "# print('summary \\n', tilray.get_analysis().summary)\n",
    "# print('\\n oscillators \\n', tilray.get_analysis().oscillators)\n",
    "# print('\\n moving_averages \\n', tilray.get_analysis().moving_averages)\n",
    "# print('\\n indicators \\n', tilray.get_analysis().indicators)\n",
    "\n",
    "# print('\\n Opening price \\n', tilray.get_analysis().indicators[\"open\"])\n",
    "# print('\\n Closing price \\n', tilray.get_analysis().indicators[\"close\"])\n",
    "# print('\\n MACD \\n', tilray.get_analysis().indicators[\"MACD.macd\"])\n",
    "# print('\\n RSI \\n', tilray.get_analysis().indicators[\"RSI\"])\n",
    "# print('\\n Momentum \\n', tilray.get_analysis().indicators[\"Mom\"])\n",
    "\n",
    "print('\\n Momentum \\n', tilray.get_analysis().summary)"
   ]
  },
  {
   "cell_type": "code",
   "execution_count": null,
   "metadata": {},
   "outputs": [],
   "source": []
  },
  {
   "cell_type": "code",
   "execution_count": null,
   "metadata": {},
   "outputs": [],
   "source": []
  }
 ],
 "metadata": {
  "kernelspec": {
   "display_name": "Python 3",
   "language": "python",
   "name": "python3"
  },
  "language_info": {
   "codemirror_mode": {
    "name": "ipython",
    "version": 3
   },
   "file_extension": ".py",
   "mimetype": "text/x-python",
   "name": "python",
   "nbconvert_exporter": "python",
   "pygments_lexer": "ipython3",
   "version": "3.8.10"
  }
 },
 "nbformat": 4,
 "nbformat_minor": 4
}
