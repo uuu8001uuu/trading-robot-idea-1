{
 "cells": [
  {
   "cell_type": "code",
   "execution_count": 38,
   "metadata": {
    "scrolled": true
   },
   "outputs": [],
   "source": [
    "import pandas as pd\n",
    "import tradingview_ta as tv\n",
    "import datetime"
   ]
  },
  {
   "cell_type": "code",
   "execution_count": null,
   "metadata": {},
   "outputs": [],
   "source": [
    "# check will library yfinance work or not? uncomment code below\n",
    "\n",
    "\n",
    "# import yfinance as yf\n",
    "\n",
    "# msft = yf.Ticker(\"MSFT\")\n",
    "# print(msft.info)"
   ]
  },
  {
   "cell_type": "code",
   "execution_count": null,
   "metadata": {},
   "outputs": [],
   "source": [
    "# check will library tradingview_ta work or not? uncomment code below\n",
    "\n",
    "\n",
    "# from tradingview_ta import TA_Handler, Interval, Exchange\n",
    "\n",
    "# tesla = TA_Handler(\n",
    "#     symbol=\"TSLA\",\n",
    "#     screener=\"america\",\n",
    "#     exchange=\"NASDAQ\",\n",
    "#     interval=Interval.INTERVAL_1_DAY\n",
    "# )\n",
    "# print(tesla.get_analysis().summary)"
   ]
  },
  {
   "cell_type": "code",
   "execution_count": 140,
   "metadata": {},
   "outputs": [
    {
     "ename": "AttributeError",
     "evalue": "'dict' object has no attribute 'indicators'",
     "output_type": "error",
     "traceback": [
      "\u001b[0;31m---------------------------------------------------------------------------\u001b[0m",
      "\u001b[0;31mAttributeError\u001b[0m                            Traceback (most recent call last)",
      "\u001b[0;32m<ipython-input-140-3218457b03c2>\u001b[0m in \u001b[0;36m<module>\u001b[0;34m\u001b[0m\n\u001b[1;32m     26\u001b[0m \u001b[0;34m\u001b[0m\u001b[0m\n\u001b[1;32m     27\u001b[0m \u001b[0manalysis\u001b[0m \u001b[0;34m=\u001b[0m \u001b[0mget_multiple_analysis\u001b[0m\u001b[0;34m(\u001b[0m\u001b[0mscreener\u001b[0m\u001b[0;34m=\u001b[0m\u001b[0;34m\"america\"\u001b[0m\u001b[0;34m,\u001b[0m \u001b[0minterval\u001b[0m\u001b[0;34m=\u001b[0m\u001b[0mInterval\u001b[0m\u001b[0;34m.\u001b[0m\u001b[0mINTERVAL_1_HOUR\u001b[0m\u001b[0;34m,\u001b[0m \u001b[0msymbols\u001b[0m\u001b[0;34m=\u001b[0m\u001b[0;34m[\u001b[0m\u001b[0;34m\"nasdaq:tsla\"\u001b[0m\u001b[0;34m,\u001b[0m \u001b[0;34m\"nyse:docn\"\u001b[0m\u001b[0;34m,\u001b[0m \u001b[0;34m\"nasdaq:aapl\"\u001b[0m\u001b[0;34m]\u001b[0m\u001b[0;34m)\u001b[0m\u001b[0;34m\u001b[0m\u001b[0;34m\u001b[0m\u001b[0m\n\u001b[0;32m---> 28\u001b[0;31m \u001b[0mprint\u001b[0m\u001b[0;34m(\u001b[0m\u001b[0;34m'\\n Multiple analysis \\n'\u001b[0m\u001b[0;34m,\u001b[0m \u001b[0manalysis\u001b[0m\u001b[0;34m.\u001b[0m\u001b[0mindicators\u001b[0m\u001b[0;34m[\u001b[0m\u001b[0;34m\"SMA200\"\u001b[0m\u001b[0;34m]\u001b[0m\u001b[0;34m)\u001b[0m\u001b[0;34m\u001b[0m\u001b[0;34m\u001b[0m\u001b[0m\n\u001b[0m\u001b[1;32m     29\u001b[0m \u001b[0;34m\u001b[0m\u001b[0m\n\u001b[1;32m     30\u001b[0m \u001b[0;34m\u001b[0m\u001b[0m\n",
      "\u001b[0;31mAttributeError\u001b[0m: 'dict' object has no attribute 'indicators'"
     ]
    }
   ],
   "source": [
    "# library tradingview_ta functions and capabilities\n",
    "# https://python-tradingview-ta.readthedocs.io/en/latest/usage.html#retrieving-multiple-analysis\n",
    "\n",
    "tilray = tv.TA_Handler(\n",
    "    symbol=\"TLRY\",\n",
    "    screener=\"america\",\n",
    "    exchange=\"NASDAQ\",\n",
    "    interval=\"INTERVAL_1_DAY\",\n",
    "#     time=time[\"2020-7-6\".\"2020-7-8\"],\n",
    "#      time=datetime(year=2021, month=7, day=6),\n",
    "#     indicators[\"MACD.macd\"]\n",
    ")\n",
    "\n",
    "# print('summary \\n', tilray.get_analysis().summary)\n",
    "# print('\\n oscillators \\n', tilray.get_analysis().oscillators)\n",
    "# print('\\n moving_averages \\n', tilray.get_analysis().moving_averages)\n",
    "# print('\\n indicators \\n', tilray.get_analysis().indicators)\n",
    "\n",
    "# print('\\n Opening price \\n', tilray.get_analysis().indicators[\"open\"])\n",
    "# print('\\n Closing price \\n', tilray.get_analysis().indicators[\"close\"])\n",
    "# print('\\n MACD \\n', tilray.get_analysis().indicators[\"MACD.macd\"])\n",
    "# print('\\n RSI \\n', tilray.get_analysis().indicators[\"RSI\"])\n",
    "# print('\\n Momentum \\n', tilray.get_analysis().indicators[\"Mom\"])\n",
    "# print('\\n Momentum \\n', tilray.get_analysis().indicators[\"SMA200\"])\n",
    "\n",
    "\n",
    "analysis = get_multiple_analysis(screener=\"america\", interval=Interval.INTERVAL_1_HOUR, symbols=[\"nasdaq:tsla\", \"nyse:docn\", \"nasdaq:aapl\"])\n",
    "print('\\n Multiple analysis \\n', analysis.indicators[\"SMA200\"])\n",
    "\n",
    "\n",
    "\n",
    "\n",
    "# z = datetime.datetime.now()\n",
    "\n",
    "\n",
    "print(datetime(year=2021, month=7, day=6))\n",
    "\n",
    "\n",
    "# print('\\n Date \\n', z, z2)\n"
   ]
  },
  {
   "cell_type": "code",
   "execution_count": null,
   "metadata": {},
   "outputs": [],
   "source": []
  }
 ],
 "metadata": {
  "kernelspec": {
   "display_name": "Python 3",
   "language": "python",
   "name": "python3"
  },
  "language_info": {
   "codemirror_mode": {
    "name": "ipython",
    "version": 3
   },
   "file_extension": ".py",
   "mimetype": "text/x-python",
   "name": "python",
   "nbconvert_exporter": "python",
   "pygments_lexer": "ipython3",
   "version": "3.8.10"
  }
 },
 "nbformat": 4,
 "nbformat_minor": 4
}
